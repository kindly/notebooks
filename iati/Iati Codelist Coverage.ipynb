{
 "cells": [
  {
   "cell_type": "code",
   "execution_count": 27,
   "metadata": {},
   "outputs": [],
   "source": [
    "import json\n",
    "from collections import Counter, defaultdict\n",
    "from lxml import etree\n",
    "import pprint\n",
    "\n",
    "with open('all_codelists.json') as f:\n",
    "    all_codelists = json.load(f)\n"
   ]
  },
  {
   "cell_type": "code",
   "execution_count": 28,
   "metadata": {},
   "outputs": [],
   "source": [
    "with open('combined.xml') as f:\n",
    "    root = etree.parse(f)\n",
    "\n",
    "iati_activities = root.xpath('//iati-activity')"
   ]
  },
  {
   "cell_type": "code",
   "execution_count": 35,
   "metadata": {
    "scrolled": true
   },
   "outputs": [],
   "source": [
    "results = {}\n",
    "\n",
    "for codelist in all_codelists:\n",
    "    path = codelist['path']\n",
    "    if path.startswith('//iati-organisation'):\n",
    "        continue\n",
    "    results[path] = {'codelist': codelist['codelist']}\n",
    "    codelist_name_map = {}\n",
    "    for codelist_value in codelist['data']['data']:\n",
    "        name = codelist_value.get('name')\n",
    "        if name:\n",
    "            codelist_output_name = \"{} ({})\".format(name, codelist_value['code'])\n",
    "        else:\n",
    "            codelist_output_name = codelist_value['code']\n",
    "        codelist_name_map[codelist_value['code']] = codelist_output_name\n",
    "    \n",
    "    results[path]['results_total'] = {}\n",
    "    results[path]['results_unknown_total'] = {}\n",
    "    all_values = root.xpath(path)\n",
    "    \n",
    "    counter = Counter(all_values)\n",
    "    \n",
    "    for key, value in counter.items():\n",
    "        if key not in codelist_name_map:\n",
    "            results[path]['results_unknown_total'][key] = value\n",
    "        else:\n",
    "            results[path]['results_total'][codelist_name_map[key]] = value\n",
    "    \n",
    "    results[path]['total_codelist_values'] = len(codelist_name_map)\n",
    "    results[path]['total_codelist_values_unused'] = len(codelist_name_map) - len(results[path]['results_total'])\n",
    "    results[path]['codelist_values_unused'] = [codelist_name_map[v] for v in sorted(list(set(codelist_name_map) - set(counter)))]\n",
    "    \n",
    "    results_unique_activity = defaultdict(set)\n",
    "    results_unknown_unique_activity = defaultdict(set)\n",
    "    for value in all_values:\n",
    "        parent = value\n",
    "        while True:\n",
    "            parent = parent.getparent()\n",
    "            if parent is None:\n",
    "                break\n",
    "            if parent.tag == 'iati-activity':\n",
    "                if value not in codelist_name_map:\n",
    "                    results_unknown_unique_activity[value].add(parent)\n",
    "                else:\n",
    "                    results_unique_activity[codelist_name_map[value]].add(parent)\n",
    "                break\n",
    "\n",
    "        \n",
    "    results[path]['results_unique_activity'] = dict((key, len(value)) for key, value in results_unique_activity.items())\n",
    "    results[path]['results_unknown_unique_activity'] = dict((key, len(value)) for key, value in results_unknown_unique_activity.items())\n",
    "\n"
   ]
  },
  {
   "cell_type": "code",
   "execution_count": 38,
   "metadata": {},
   "outputs": [],
   "source": [
    "with open('codelist_coverage.json', 'w+') as f:\n",
    "    json.dump(results, f, indent=2)"
   ]
  }
 ],
 "metadata": {
  "kernelspec": {
   "display_name": "Python 3",
   "language": "python",
   "name": "python3"
  },
  "language_info": {
   "codemirror_mode": {
    "name": "ipython",
    "version": 3
   },
   "file_extension": ".py",
   "mimetype": "text/x-python",
   "name": "python",
   "nbconvert_exporter": "python",
   "pygments_lexer": "ipython3",
   "version": "3.5.2"
  }
 },
 "nbformat": 4,
 "nbformat_minor": 2
}
